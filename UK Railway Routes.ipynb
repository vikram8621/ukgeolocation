{
 "cells": [
  {
   "cell_type": "code",
   "execution_count": 11,
   "id": "386a345c",
   "metadata": {},
   "outputs": [
    {
     "name": "stdout",
     "output_type": "stream",
     "text": [
      "Requirement already satisfied: geopy in c:\\users\\vikram aiyer\\anaconda3\\lib\\site-packages (2.4.1)Note: you may need to restart the kernel to use updated packages.\n",
      "\n",
      "Requirement already satisfied: pandas in c:\\users\\vikram aiyer\\anaconda3\\lib\\site-packages (1.5.3)\n",
      "Requirement already satisfied: geographiclib<3,>=1.52 in c:\\users\\vikram aiyer\\anaconda3\\lib\\site-packages (from geopy) (2.0)\n",
      "Requirement already satisfied: python-dateutil>=2.8.1 in c:\\users\\vikram aiyer\\anaconda3\\lib\\site-packages (from pandas) (2.8.2)\n",
      "Requirement already satisfied: pytz>=2020.1 in c:\\users\\vikram aiyer\\anaconda3\\lib\\site-packages (from pandas) (2022.7)\n",
      "Requirement already satisfied: numpy>=1.21.0 in c:\\users\\vikram aiyer\\anaconda3\\lib\\site-packages (from pandas) (1.24.3)\n",
      "Requirement already satisfied: six>=1.5 in c:\\users\\vikram aiyer\\anaconda3\\lib\\site-packages (from python-dateutil>=2.8.1->pandas) (1.16.0)\n"
     ]
    }
   ],
   "source": [
    "pip install geopy pandas"
   ]
  },
  {
   "cell_type": "code",
   "execution_count": 7,
   "id": "4ba08f31",
   "metadata": {},
   "outputs": [
    {
     "name": "stdout",
     "output_type": "stream",
     "text": [
      "Collecting geopy\n",
      "  Downloading geopy-2.4.1-py3-none-any.whl (125 kB)\n",
      "                                              0.0/125.4 kB ? eta -:--:--\n",
      "     -------------------------------------- 125.4/125.4 kB 7.2 MB/s eta 0:00:00\n",
      "Collecting geographiclib<3,>=1.52 (from geopy)\n",
      "  Downloading geographiclib-2.0-py3-none-any.whl (40 kB)\n",
      "                                              0.0/40.3 kB ? eta -:--:--\n",
      "     ---------------------------------------- 40.3/40.3 kB ? eta 0:00:00\n",
      "Installing collected packages: geographiclib, geopy\n",
      "Successfully installed geographiclib-2.0 geopy-2.4.1\n",
      "Note: you may need to restart the kernel to use updated packages.\n"
     ]
    }
   ],
   "source": [
    "pip install geopy"
   ]
  },
  {
   "cell_type": "code",
   "execution_count": 1,
   "id": "e15b22d2",
   "metadata": {},
   "outputs": [],
   "source": [
    "import pandas as pd\n",
    "\n",
    "from geopy.geocoders import Nominatim"
   ]
  },
  {
   "cell_type": "code",
   "execution_count": 5,
   "id": "75147b27",
   "metadata": {},
   "outputs": [],
   "source": [
    "station = [\"London Paddington\", \"London Kings Cross\", \"Liverpool Lime Street\", \"London Euston\", \"York\", \"Manchester Piccadilly\", \"Birmingham New Street\", \"London St Pancras\", \"Oxford\", \"Reading\", \"Edinburgh Waverley\", \"Bristol Temple Meads\"]"
   ]
  },
  {
   "cell_type": "code",
   "execution_count": 6,
   "id": "0298bc32",
   "metadata": {
    "collapsed": true
   },
   "outputs": [
    {
     "data": {
      "text/plain": [
       "['London Paddington',\n",
       " 'London Kings Cross',\n",
       " 'Liverpool Lime Street',\n",
       " 'London Euston',\n",
       " 'York',\n",
       " 'Manchester Piccadilly',\n",
       " 'Birmingham New Street',\n",
       " 'London St Pancras',\n",
       " 'Oxford',\n",
       " 'Reading',\n",
       " 'Edinburgh Waverley',\n",
       " 'Bristol Temple Meads']"
      ]
     },
     "execution_count": 6,
     "metadata": {},
     "output_type": "execute_result"
    }
   ],
   "source": [
    "station"
   ]
  },
  {
   "cell_type": "code",
   "execution_count": 2,
   "id": "6062495b",
   "metadata": {},
   "outputs": [],
   "source": [
    "def get_coordinates(station):\n",
    "    location = geolocator.geocode(station + \", UK\")\n",
    "    return (location.latitude, location.longitude)"
   ]
  },
  {
   "cell_type": "code",
   "execution_count": 3,
   "id": "adbbe507",
   "metadata": {},
   "outputs": [
    {
     "ename": "NameError",
     "evalue": "name 'stations' is not defined",
     "output_type": "error",
     "traceback": [
      "\u001b[1;31m---------------------------------------------------------------------------\u001b[0m",
      "\u001b[1;31mNameError\u001b[0m                                 Traceback (most recent call last)",
      "Cell \u001b[1;32mIn[3], line 2\u001b[0m\n\u001b[0;32m      1\u001b[0m data \u001b[38;5;241m=\u001b[39m []\n\u001b[1;32m----> 2\u001b[0m \u001b[38;5;28;01mfor\u001b[39;00m station \u001b[38;5;129;01min\u001b[39;00m stations:\n\u001b[0;32m      3\u001b[0m     lat, lon \u001b[38;5;241m=\u001b[39m get_coordinates(station)\n\u001b[0;32m      4\u001b[0m     data\u001b[38;5;241m.\u001b[39mappend([station, lat, lon])\n",
      "\u001b[1;31mNameError\u001b[0m: name 'stations' is not defined"
     ]
    }
   ],
   "source": [
    "data = []\n",
    "for station in stations:\n",
    "    lat, lon = get_coordinates(station)\n",
    "    data.append([station, lat, lon])\n",
    "    \n",
    "df = pd.DataFrame(data, columns=[\"Station\", \"Latitude\", \"Longitude\"])"
   ]
  },
  {
   "cell_type": "code",
   "execution_count": 10,
   "id": "c74b79a2",
   "metadata": {},
   "outputs": [
    {
     "ename": "NameError",
     "evalue": "name 'df' is not defined",
     "output_type": "error",
     "traceback": [
      "\u001b[1;31m---------------------------------------------------------------------------\u001b[0m",
      "\u001b[1;31mNameError\u001b[0m                                 Traceback (most recent call last)",
      "Cell \u001b[1;32mIn[10], line 1\u001b[0m\n\u001b[1;32m----> 1\u001b[0m \u001b[38;5;28mprint\u001b[39m(df)\n",
      "\u001b[1;31mNameError\u001b[0m: name 'df' is not defined"
     ]
    }
   ],
   "source": [
    "print(df)"
   ]
  },
  {
   "cell_type": "code",
   "execution_count": 10,
   "id": "f39cf6f4",
   "metadata": {},
   "outputs": [
    {
     "name": "stdout",
     "output_type": "stream",
     "text": [
      "                  Station   Latitude  Longitude\n",
      "0   Liverpool Lime Street  53.407609  -2.977585\n",
      "1                    York  53.959055  -1.081536\n",
      "2   Manchester Piccadilly  53.477220  -2.230140\n",
      "3                 Reading  51.456424  -0.970066\n",
      "4           London Euston  51.528808  -0.134255\n",
      "5                  Oxford  51.752013  -1.257850\n",
      "6                  Durham  54.666667  -1.750000\n",
      "7       London St Pancras  51.533443  -0.128059\n",
      "8   Birmingham New Street  52.477646  -1.898694\n",
      "9       London Paddington  51.517086  -0.177542\n",
      "10   Bristol Temple Meads  51.449099  -2.580403\n",
      "11               Tamworth  52.634582  -1.694844\n",
      "12        London Waterloo  51.502838  -0.112801\n",
      "13              Sheffield  53.380663  -1.470228\n",
      "14          Wolverhampton  52.584765  -2.127567\n",
      "15                  Leeds  53.797418  -1.543794\n",
      "16               Stafford  52.806316  -2.116382\n",
      "17              Doncaster  53.522768  -1.133531\n",
      "18                Swindon  51.561533  -1.785432\n",
      "19             Nottingham  52.953419  -1.149646\n",
      "20           Peterborough  52.572577  -0.242734\n",
      "21              Edinburgh  55.953346  -3.188375\n",
      "22                  Crewe  53.099615  -2.441463\n",
      "23     London Kings Cross  51.526001  -0.125291\n",
      "24              Leicester  52.636200  -1.133197\n",
      "25               Nuneaton  52.524618  -1.468449\n",
      "26                 Didcot  51.605691  -1.246792\n",
      "27     Edinburgh Waverley  55.951902  -3.190420\n",
      "28               Coventry  52.408181  -1.510477\n",
      "29              Wakefield  53.682954  -1.496729\n",
      "30        Cardiff Central  51.475876  -3.179031\n",
      "31             Warrington  53.401858  -2.568022\n",
      "Data successfully exported to uk_rail_stations_departure.csv\n"
     ]
    }
   ],
   "source": [
    "import pandas as pd\n",
    "from geopy.geocoders import Nominatim\n",
    "from geopy.exc import GeocoderTimedOut\n",
    "\n",
    "# Sample list of stations\n",
    "stations = [\"Liverpool Lime Street\", \"York\", \"Manchester Piccadilly\", \"Reading\",\n",
    "\"London Euston\",\n",
    "\"Oxford\",\n",
    "\"Durham\",\n",
    "\"London St Pancras\",\n",
    "\"Birmingham New Street\",\n",
    "\"London Paddington\",\n",
    "\"Bristol Temple Meads\",\n",
    "\"Tamworth\",\n",
    "\"London Waterloo\",\n",
    "\"Sheffield\",\n",
    "\"Wolverhampton\",\n",
    "\"Leeds\",\n",
    "\"Stafford\",\n",
    "\"Doncaster\",\n",
    "\"Swindon\",\n",
    "\"Nottingham\",\n",
    "\"Peterborough\",\n",
    "\"Edinburgh\",\n",
    "\"Crewe\",\n",
    "\"London Kings Cross\",\n",
    "\"Leicester\",\n",
    "\"Nuneaton\",\n",
    "\"Didcot\",\n",
    "\"Edinburgh Waverley\",\n",
    "\"Coventry\",\n",
    "\"Wakefield\",\n",
    "\"Cardiff Central\",\n",
    "\"Warrington\"]\n",
    "\n",
    "            \n",
    "            \n",
    "            \n",
    "           \n",
    "# Initialize geolocator\n",
    "geolocator = Nominatim(user_agent=\"geoapi\")\n",
    "\n",
    "# Function to get coordinates\n",
    "def get_coordinates(station):\n",
    "    try:\n",
    "        location = geolocator.geocode(station + \", UK\")\n",
    "        if location:\n",
    "            return (location.latitude, location.longitude)\n",
    "        else:\n",
    "            return (None, None)\n",
    "    except GeocoderTimedOut:\n",
    "        return get_coordinates(station)  # Retry in case of timeout\n",
    "\n",
    "# Create dataframe\n",
    "data = []\n",
    "for station in stations:\n",
    "    lat, lon = get_coordinates(station)\n",
    "    data.append([station, lat, lon])\n",
    "\n",
    "df = pd.DataFrame(data, columns=[\"Station\", \"Latitude\", \"Longitude\"])\n",
    "\n",
    "print(df)\n",
    "\n",
    "# export to csv\n",
    "\n",
    "csv_file_path = \"uk_rail_stations_departure.csv\"\n",
    "df.to_csv(csv_file_path, index=False)\n",
    "\n",
    "print(f\"Data successfully exported to {csv_file_path}\")\n"
   ]
  },
  {
   "cell_type": "code",
   "execution_count": null,
   "id": "37b9430b",
   "metadata": {},
   "outputs": [],
   "source": []
  }
 ],
 "metadata": {
  "kernelspec": {
   "display_name": "Python 3 (ipykernel)",
   "language": "python",
   "name": "python3"
  },
  "language_info": {
   "codemirror_mode": {
    "name": "ipython",
    "version": 3
   },
   "file_extension": ".py",
   "mimetype": "text/x-python",
   "name": "python",
   "nbconvert_exporter": "python",
   "pygments_lexer": "ipython3",
   "version": "3.11.3"
  }
 },
 "nbformat": 4,
 "nbformat_minor": 5
}
